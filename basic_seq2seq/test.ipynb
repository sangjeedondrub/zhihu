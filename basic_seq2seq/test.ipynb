{
 "cells": [
  {
   "cell_type": "code",
   "execution_count": 59,
   "metadata": {},
   "outputs": [
    {
     "name": "stdout",
     "output_type": "stream",
     "text": [
      "version checked\n"
     ]
    }
   ],
   "source": [
    "from distutils.version import LooseVersion\n",
    "\n",
    "v1 = '1.0.21a'\n",
    "v2 = '1.1.01b'\n",
    "\n",
    "lv1 = LooseVersion(v1)\n",
    "lv2 = LooseVersion(v2)\n",
    "\n",
    "print('version checked')"
   ]
  },
  {
   "cell_type": "code",
   "execution_count": 67,
   "metadata": {},
   "outputs": [
    {
     "data": {
      "text/plain": [
       "False"
      ]
     },
     "execution_count": 67,
     "metadata": {},
     "output_type": "execute_result"
    }
   ],
   "source": [
    "# cmp is not avaibable in python3\n",
    "import operator\n",
    "\n",
    "operator.eq(1,'1')"
   ]
  },
  {
   "cell_type": "code",
   "execution_count": 66,
   "metadata": {},
   "outputs": [
    {
     "data": {
      "text/plain": [
       "True"
      ]
     },
     "execution_count": 66,
     "metadata": {},
     "output_type": "execute_result"
    }
   ],
   "source": [
    "operator.le(lv1,lv2)"
   ]
  },
  {
   "cell_type": "code",
   "execution_count": 14,
   "metadata": {},
   "outputs": [
    {
     "data": {
      "text/plain": [
       "{0: 'e',\n",
       " 1: 'u',\n",
       " 2: 'r',\n",
       " 3: 'w',\n",
       " 4: 'h',\n",
       " 5: 'i',\n",
       " 6: 'y',\n",
       " 7: 'l',\n",
       " 8: 'v',\n",
       " 9: 'd',\n",
       " 10: 'o'}"
      ]
     },
     "execution_count": 14,
     "metadata": {},
     "output_type": "execute_result"
    }
   ],
   "source": [
    "data = \"\"\"\n",
    "hello\n",
    "world\n",
    "i\n",
    "love\n",
    "you\n",
    "\"\"\"\n",
    "\n",
    "# l = [ character for line in data.split('\\n') for character in line]\n",
    "# set(l)\n",
    "set_words = list(set([character for line in data.split('\\n') for character in line]))\n",
    "set_words\n",
    "\n",
    "int_to_vocab = {idx: word for idx, word in enumerate(set_words)}\n",
    "\n",
    "int_to_vocab.get\n"
   ]
  }
 ],
 "metadata": {
  "kernelspec": {
   "display_name": "Python 3",
   "language": "python",
   "name": "python3"
  },
  "language_info": {
   "codemirror_mode": {
    "name": "ipython",
    "version": 3
   },
   "file_extension": ".py",
   "mimetype": "text/x-python",
   "name": "python",
   "nbconvert_exporter": "python",
   "pygments_lexer": "ipython3",
   "version": "3.5.3"
  }
 },
 "nbformat": 4,
 "nbformat_minor": 2
}
